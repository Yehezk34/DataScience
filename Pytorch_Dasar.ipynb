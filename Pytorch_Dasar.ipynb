{
  "nbformat": 4,
  "nbformat_minor": 0,
  "metadata": {
    "colab": {
      "name": "Pytorch_Dasar.ipynb",
      "provenance": [],
      "authorship_tag": "ABX9TyP3zsmWCYPaOp0NAOVlrNq+",
      "include_colab_link": true
    },
    "kernelspec": {
      "name": "python3",
      "display_name": "Python 3"
    }
  },
  "cells": [
    {
      "cell_type": "markdown",
      "metadata": {
        "id": "view-in-github",
        "colab_type": "text"
      },
      "source": [
        "<a href=\"https://colab.research.google.com/github/samyon7/Analys_Your_Data/blob/main/Pytorch_Dasar.ipynb\" target=\"_parent\"><img src=\"https://colab.research.google.com/assets/colab-badge.svg\" alt=\"Open In Colab\"/></a>"
      ]
    },
    {
      "cell_type": "code",
      "metadata": {
        "id": "JOgAfWAbfspM",
        "outputId": "b8bf755b-7d74-4e8c-8c8e-3334aa9c92c2",
        "colab": {
          "base_uri": "https://localhost:8080/",
          "height": 102
        }
      },
      "source": [
        "!lsb_release -a"
      ],
      "execution_count": 1,
      "outputs": [
        {
          "output_type": "stream",
          "text": [
            "No LSB modules are available.\n",
            "Distributor ID:\tUbuntu\n",
            "Description:\tUbuntu 18.04.5 LTS\n",
            "Release:\t18.04\n",
            "Codename:\tbionic\n"
          ],
          "name": "stdout"
        }
      ]
    },
    {
      "cell_type": "code",
      "metadata": {
        "id": "zulBYo9vg48i",
        "outputId": "1d26f450-6695-4635-ea7c-794f08eb195a",
        "colab": {
          "base_uri": "https://localhost:8080/",
          "height": 34
        }
      },
      "source": [
        "!uname -r"
      ],
      "execution_count": 2,
      "outputs": [
        {
          "output_type": "stream",
          "text": [
            "4.19.112+\n"
          ],
          "name": "stdout"
        }
      ]
    },
    {
      "cell_type": "code",
      "metadata": {
        "id": "qLAincGRg9iD",
        "outputId": "6ab2bc15-ec08-4d07-bd85-bf058b49ce35",
        "colab": {
          "base_uri": "https://localhost:8080/",
          "height": 85
        }
      },
      "source": [
        "!lscpu | grep 'Model name'\n",
        "!lscpu | grep 'Socket(s):'\n",
        "!lscpu | grep 'Thread(s) per core'\n",
        "!lscpu | grep \"L3 cache\""
      ],
      "execution_count": 3,
      "outputs": [
        {
          "output_type": "stream",
          "text": [
            "Model name:          Intel(R) Xeon(R) CPU @ 2.30GHz\n",
            "Socket(s):           1\n",
            "Thread(s) per core:  2\n",
            "L3 cache:            46080K\n"
          ],
          "name": "stdout"
        }
      ]
    },
    {
      "cell_type": "code",
      "metadata": {
        "id": "ivtXaQCCg_Fz",
        "outputId": "7d926e4a-98af-407c-b01e-59007fdb9fc8",
        "colab": {
          "base_uri": "https://localhost:8080/",
          "height": 34
        }
      },
      "source": [
        "!cat /proc/meminfo | grep 'MemAvailable'"
      ],
      "execution_count": 4,
      "outputs": [
        {
          "output_type": "stream",
          "text": [
            "MemAvailable:   12539652 kB\n"
          ],
          "name": "stdout"
        }
      ]
    },
    {
      "cell_type": "code",
      "metadata": {
        "id": "ILuLBvnLhAyU",
        "outputId": "c0b5c573-835a-47d3-f185-e1f7c485c80b",
        "colab": {
          "base_uri": "https://localhost:8080/",
          "height": 51
        }
      },
      "source": [
        "!df -h / | awk '{print $4}'"
      ],
      "execution_count": 5,
      "outputs": [
        {
          "output_type": "stream",
          "text": [
            "Avail\n",
            "73G\n"
          ],
          "name": "stdout"
        }
      ]
    },
    {
      "cell_type": "code",
      "metadata": {
        "id": "BNrEsCjuhGHj",
        "outputId": "efe36130-9515-4427-b30f-71c9f7824d02",
        "colab": {
          "base_uri": "https://localhost:8080/",
          "height": 51
        }
      },
      "source": [
        "!nvidia-smi"
      ],
      "execution_count": 6,
      "outputs": [
        {
          "output_type": "stream",
          "text": [
            "NVIDIA-SMI has failed because it couldn't communicate with the NVIDIA driver. Make sure that the latest NVIDIA driver is installed and running.\n",
            "\n"
          ],
          "name": "stdout"
        }
      ]
    },
    {
      "cell_type": "code",
      "metadata": {
        "id": "zNq1-tGNhIcB",
        "outputId": "49c55de9-c486-4239-c811-cf964030b284",
        "colab": {
          "base_uri": "https://localhost:8080/",
          "height": 51
        }
      },
      "source": [
        "import sys\n",
        "print('The python version is', sys.version)"
      ],
      "execution_count": 7,
      "outputs": [
        {
          "output_type": "stream",
          "text": [
            "The python version is 3.6.9 (default, Jul 17 2020, 12:50:27) \n",
            "[GCC 8.4.0]\n"
          ],
          "name": "stdout"
        }
      ]
    },
    {
      "cell_type": "code",
      "metadata": {
        "id": "Ij2UI5-vhN2P",
        "outputId": "da0d3c5f-746a-4911-f16f-a54312d365dc",
        "colab": {
          "base_uri": "https://localhost:8080/",
          "height": 34
        }
      },
      "source": [
        "from __future__ import print_function\n",
        "import torch\n",
        "print(torch.__version__)"
      ],
      "execution_count": 8,
      "outputs": [
        {
          "output_type": "stream",
          "text": [
            "1.6.0+cu101\n"
          ],
          "name": "stdout"
        }
      ]
    },
    {
      "cell_type": "code",
      "metadata": {
        "id": "-uxm23ZxhRIF",
        "outputId": "9239a2db-f9e3-4042-be4f-74c2c17e92ce",
        "colab": {
          "base_uri": "https://localhost:8080/",
          "height": 34
        }
      },
      "source": [
        "device = torch.device(\"cuda:0\" if torch.cuda.is_available() else \"cpu\")\n",
        "print(device)"
      ],
      "execution_count": 9,
      "outputs": [
        {
          "output_type": "stream",
          "text": [
            "cpu\n"
          ],
          "name": "stdout"
        }
      ]
    },
    {
      "cell_type": "code",
      "metadata": {
        "id": "b0aORlZOhUg5",
        "outputId": "aaf296a1-ae9b-496b-c2de-862241c8a799",
        "colab": {
          "base_uri": "https://localhost:8080/",
          "height": 102
        }
      },
      "source": [
        "#TENSOR BASICS!\n",
        "x = torch.empty(5, 3)\n",
        "print(x)"
      ],
      "execution_count": 14,
      "outputs": [
        {
          "output_type": "stream",
          "text": [
            "tensor([[4.1464e-36, 0.0000e+00, 3.3631e-44],\n",
            "        [0.0000e+00,        nan, 0.0000e+00],\n",
            "        [4.4721e+21, 1.5956e+25, 4.7399e+16],\n",
            "        [3.7293e-08, 3.9664e+28, 6.9397e+22],\n",
            "        [1.7260e+25, 2.2856e+20, 5.0948e-14]])\n"
          ],
          "name": "stdout"
        }
      ]
    },
    {
      "cell_type": "code",
      "metadata": {
        "id": "lnuy4WkNhZ7L",
        "outputId": "87a4663e-e1ec-43ee-f55b-a92587aef3f7",
        "colab": {
          "base_uri": "https://localhost:8080/",
          "height": 34
        }
      },
      "source": [
        "x.shape"
      ],
      "execution_count": 15,
      "outputs": [
        {
          "output_type": "execute_result",
          "data": {
            "text/plain": [
              "torch.Size([5, 3])"
            ]
          },
          "metadata": {
            "tags": []
          },
          "execution_count": 15
        }
      ]
    },
    {
      "cell_type": "code",
      "metadata": {
        "id": "Wa9wy7Gshb4C",
        "outputId": "d32b3f58-a3db-49bd-8c1f-dba899b2e043",
        "colab": {
          "base_uri": "https://localhost:8080/",
          "height": 51
        }
      },
      "source": [
        "a = torch.ones(3, dtype=torch.long)\n",
        "x = torch.tensor([5.5, 3])\n",
        "\n",
        "print(a)\n",
        "print(x)"
      ],
      "execution_count": 18,
      "outputs": [
        {
          "output_type": "stream",
          "text": [
            "tensor([1, 1, 1])\n",
            "tensor([5.5000, 3.0000])\n"
          ],
          "name": "stdout"
        }
      ]
    },
    {
      "cell_type": "code",
      "metadata": {
        "id": "7eNnNIiGhj6E",
        "outputId": "b99b8ecf-c5ee-4c8a-dffa-0d31e6ac5e80",
        "colab": {
          "base_uri": "https://localhost:8080/",
          "height": 102
        }
      },
      "source": [
        "# Creating a tensor based on an existing tensor. These methods will reuse properties of the input tensor, e.g. dtype\n",
        "x = x.new_ones(5, 3, dtype=torch.double) \n",
        "x"
      ],
      "execution_count": 19,
      "outputs": [
        {
          "output_type": "execute_result",
          "data": {
            "text/plain": [
              "tensor([[1., 1., 1.],\n",
              "        [1., 1., 1.],\n",
              "        [1., 1., 1.],\n",
              "        [1., 1., 1.],\n",
              "        [1., 1., 1.]], dtype=torch.float64)"
            ]
          },
          "metadata": {
            "tags": []
          },
          "execution_count": 19
        }
      ]
    },
    {
      "cell_type": "code",
      "metadata": {
        "id": "g2XBw8-8hxjQ",
        "outputId": "0b135899-838f-48b7-ad26-e5dc67dae0f9",
        "colab": {
          "base_uri": "https://localhost:8080/",
          "height": 102
        }
      },
      "source": [
        "x = torch.randn_like(x, dtype=torch.float)    \n",
        "x"
      ],
      "execution_count": 21,
      "outputs": [
        {
          "output_type": "execute_result",
          "data": {
            "text/plain": [
              "tensor([[ 2.8999,  3.0214, -0.5304],\n",
              "        [ 0.8323, -0.3119,  1.0253],\n",
              "        [-1.2742, -1.0506,  0.9060],\n",
              "        [-2.0079, -1.7941, -0.3735],\n",
              "        [ 0.7933,  0.2961, -0.5222]])"
            ]
          },
          "metadata": {
            "tags": []
          },
          "execution_count": 21
        }
      ]
    },
    {
      "cell_type": "code",
      "metadata": {
        "id": "vE3z47kthzy1"
      },
      "source": [
        "y = torch.rand(5, 3)"
      ],
      "execution_count": 24,
      "outputs": []
    },
    {
      "cell_type": "code",
      "metadata": {
        "id": "B7kazlm-h4pu",
        "outputId": "720c995f-4ef3-4483-f1f1-7f82af186159",
        "colab": {
          "base_uri": "https://localhost:8080/",
          "height": 102
        }
      },
      "source": [
        "# OPERATE!\n",
        "print(x + y)"
      ],
      "execution_count": 27,
      "outputs": [
        {
          "output_type": "stream",
          "text": [
            "tensor([[ 3.3343,  3.5254, -0.2505],\n",
            "        [ 1.1145,  0.4195,  1.9496],\n",
            "        [-0.9514, -0.3339,  1.1452],\n",
            "        [-1.0808, -1.5139, -0.2208],\n",
            "        [ 1.4126,  0.3570,  0.2028]])\n"
          ],
          "name": "stdout"
        }
      ]
    },
    {
      "cell_type": "code",
      "metadata": {
        "id": "JEPsjwdTh8Jh",
        "outputId": "1e4fb6de-dfd3-42eb-e60f-eab7ec5bf102",
        "colab": {
          "base_uri": "https://localhost:8080/",
          "height": 102
        }
      },
      "source": [
        "torch.add(x, y)"
      ],
      "execution_count": 28,
      "outputs": [
        {
          "output_type": "execute_result",
          "data": {
            "text/plain": [
              "tensor([[ 3.3343,  3.5254, -0.2505],\n",
              "        [ 1.1145,  0.4195,  1.9496],\n",
              "        [-0.9514, -0.3339,  1.1452],\n",
              "        [-1.0808, -1.5139, -0.2208],\n",
              "        [ 1.4126,  0.3570,  0.2028]])"
            ]
          },
          "metadata": {
            "tags": []
          },
          "execution_count": 28
        }
      ]
    },
    {
      "cell_type": "code",
      "metadata": {
        "id": "HDM_U4riiFGY",
        "outputId": "2a3fc137-11c4-4a6e-d8d2-fb49c3e9b015",
        "colab": {
          "base_uri": "https://localhost:8080/",
          "height": 102
        }
      },
      "source": [
        "result = torch.empty(5, 3)\n",
        "torch.add(x, y, out=result)\n",
        "result"
      ],
      "execution_count": 30,
      "outputs": [
        {
          "output_type": "execute_result",
          "data": {
            "text/plain": [
              "tensor([[ 3.3343,  3.5254, -0.2505],\n",
              "        [ 1.1145,  0.4195,  1.9496],\n",
              "        [-0.9514, -0.3339,  1.1452],\n",
              "        [-1.0808, -1.5139, -0.2208],\n",
              "        [ 1.4126,  0.3570,  0.2028]])"
            ]
          },
          "metadata": {
            "tags": []
          },
          "execution_count": 30
        }
      ]
    },
    {
      "cell_type": "code",
      "metadata": {
        "id": "qdxVrWtYiHJB",
        "outputId": "60a264b1-9443-4a22-f9ff-9d6116abc972",
        "colab": {
          "base_uri": "https://localhost:8080/",
          "height": 102
        }
      },
      "source": [
        "y.add_(x)\n",
        "y"
      ],
      "execution_count": 32,
      "outputs": [
        {
          "output_type": "execute_result",
          "data": {
            "text/plain": [
              "tensor([[ 6.2343,  6.5468, -0.7809],\n",
              "        [ 1.9468,  0.1077,  2.9749],\n",
              "        [-2.2256, -1.3845,  2.0513],\n",
              "        [-3.0887, -3.3080, -0.5943],\n",
              "        [ 2.2058,  0.6531, -0.3194]])"
            ]
          },
          "metadata": {
            "tags": []
          },
          "execution_count": 32
        }
      ]
    },
    {
      "cell_type": "code",
      "metadata": {
        "id": "etum5-IwiJ05",
        "outputId": "e4a91f3d-5403-42a6-d465-11db0d4093c4",
        "colab": {
          "base_uri": "https://localhost:8080/",
          "height": 34
        }
      },
      "source": [
        "a = torch.ones(5)\n",
        "print(a)"
      ],
      "execution_count": 33,
      "outputs": [
        {
          "output_type": "stream",
          "text": [
            "tensor([1., 1., 1., 1., 1.])\n"
          ],
          "name": "stdout"
        }
      ]
    },
    {
      "cell_type": "code",
      "metadata": {
        "id": "NkAaTZ8aiOr3",
        "outputId": "f673e48e-5209-4131-bde4-4e8913095d5d",
        "colab": {
          "base_uri": "https://localhost:8080/",
          "height": 34
        }
      },
      "source": [
        "b = a.numpy()\n",
        "print(b)"
      ],
      "execution_count": 34,
      "outputs": [
        {
          "output_type": "stream",
          "text": [
            "[1. 1. 1. 1. 1.]\n"
          ],
          "name": "stdout"
        }
      ]
    },
    {
      "cell_type": "code",
      "metadata": {
        "id": "7DD7DQREiSqk",
        "outputId": "a15881f4-2e30-44ee-e223-8b9d52da1f47",
        "colab": {
          "base_uri": "https://localhost:8080/",
          "height": 51
        }
      },
      "source": [
        "a.add_(1)\n",
        "print(a)\n",
        "print(b)"
      ],
      "execution_count": 35,
      "outputs": [
        {
          "output_type": "stream",
          "text": [
            "tensor([2., 2., 2., 2., 2.])\n",
            "[2. 2. 2. 2. 2.]\n"
          ],
          "name": "stdout"
        }
      ]
    },
    {
      "cell_type": "code",
      "metadata": {
        "id": "Oo7KTsa1iY6H",
        "outputId": "49432e82-960e-40d5-eb7c-59f53b28be7b",
        "colab": {
          "base_uri": "https://localhost:8080/",
          "height": 51
        }
      },
      "source": [
        "import numpy as np\n",
        "a = np.ones(5)\n",
        "b = torch.from_numpy(a)\n",
        "np.add(a, 1, out=a)\n",
        "print(a)\n",
        "print(b)"
      ],
      "execution_count": 36,
      "outputs": [
        {
          "output_type": "stream",
          "text": [
            "[2. 2. 2. 2. 2.]\n",
            "tensor([2., 2., 2., 2., 2.], dtype=torch.float64)\n"
          ],
          "name": "stdout"
        }
      ]
    },
    {
      "cell_type": "code",
      "metadata": {
        "id": "_VcvxdKFigP6",
        "outputId": "831eab40-e16a-4707-bc93-405ba6774e42",
        "colab": {
          "base_uri": "https://localhost:8080/",
          "height": 68
        }
      },
      "source": [
        "# STORAGE AND VIEWS!\n",
        "points = torch.FloatTensor([[4.0, 1.0], [5.0, 3.0], [2.0, 1.0]])\n",
        "print(points)"
      ],
      "execution_count": 38,
      "outputs": [
        {
          "output_type": "stream",
          "text": [
            "tensor([[4., 1.],\n",
            "        [5., 3.],\n",
            "        [2., 1.]])\n"
          ],
          "name": "stdout"
        }
      ]
    },
    {
      "cell_type": "code",
      "metadata": {
        "id": "46EQNXzoij78",
        "outputId": "b92f381b-d8cc-4393-f91b-a44aca4f6cec",
        "colab": {
          "base_uri": "https://localhost:8080/",
          "height": 136
        }
      },
      "source": [
        "# STORAGE!\n",
        "points.storage()"
      ],
      "execution_count": 39,
      "outputs": [
        {
          "output_type": "execute_result",
          "data": {
            "text/plain": [
              " 4.0\n",
              " 1.0\n",
              " 5.0\n",
              " 3.0\n",
              " 2.0\n",
              " 1.0\n",
              "[torch.FloatStorage of size 6]"
            ]
          },
          "metadata": {
            "tags": []
          },
          "execution_count": 39
        }
      ]
    },
    {
      "cell_type": "code",
      "metadata": {
        "id": "KklhBValiqPs",
        "outputId": "62f959f7-563e-4e93-a56c-072a181550fd",
        "colab": {
          "base_uri": "https://localhost:8080/",
          "height": 68
        }
      },
      "source": [
        "points_storage = points.storage()\n",
        "points_storage[0] = 2.0\n",
        "points"
      ],
      "execution_count": 40,
      "outputs": [
        {
          "output_type": "execute_result",
          "data": {
            "text/plain": [
              "tensor([[2., 1.],\n",
              "        [5., 3.],\n",
              "        [2., 1.]])"
            ]
          },
          "metadata": {
            "tags": []
          },
          "execution_count": 40
        }
      ]
    },
    {
      "cell_type": "code",
      "metadata": {
        "id": "7qheBXRxiss7",
        "outputId": "8e63de3c-9d62-4b6f-94db-2817554b3d5b",
        "colab": {
          "base_uri": "https://localhost:8080/",
          "height": 34
        }
      },
      "source": [
        "points = torch.tensor([[4.0, 1.0], [5.0, 3.0], [2.0, 1.0]])\n",
        "second_point = points[1]\n",
        "second_point.storage_offset()"
      ],
      "execution_count": 42,
      "outputs": [
        {
          "output_type": "execute_result",
          "data": {
            "text/plain": [
              "2"
            ]
          },
          "metadata": {
            "tags": []
          },
          "execution_count": 42
        }
      ]
    },
    {
      "cell_type": "code",
      "metadata": {
        "id": "Pf6ZtAgWiw7S",
        "outputId": "19affd3d-d653-4d30-d908-1585426eaaeb",
        "colab": {
          "base_uri": "https://localhost:8080/",
          "height": 34
        }
      },
      "source": [
        "second_point.size()"
      ],
      "execution_count": 43,
      "outputs": [
        {
          "output_type": "execute_result",
          "data": {
            "text/plain": [
              "torch.Size([2])"
            ]
          },
          "metadata": {
            "tags": []
          },
          "execution_count": 43
        }
      ]
    },
    {
      "cell_type": "code",
      "metadata": {
        "id": "h5iMeOZuizXf",
        "outputId": "c752b44f-c5c0-498f-c192-de8f03098012",
        "colab": {
          "base_uri": "https://localhost:8080/",
          "height": 34
        }
      },
      "source": [
        "second_point.shape"
      ],
      "execution_count": 44,
      "outputs": [
        {
          "output_type": "execute_result",
          "data": {
            "text/plain": [
              "torch.Size([2])"
            ]
          },
          "metadata": {
            "tags": []
          },
          "execution_count": 44
        }
      ]
    },
    {
      "cell_type": "code",
      "metadata": {
        "id": "oWG7OsoFi0vs",
        "outputId": "0705f50a-5906-48c9-facf-4def4923602e",
        "colab": {
          "base_uri": "https://localhost:8080/",
          "height": 34
        }
      },
      "source": [
        "# Stride is a tuple indicating the number of elements in the storage that have to be skipped when the index is increased by 1 in each dimension!\n",
        "points.stride()"
      ],
      "execution_count": 46,
      "outputs": [
        {
          "output_type": "execute_result",
          "data": {
            "text/plain": [
              "(2, 1)"
            ]
          },
          "metadata": {
            "tags": []
          },
          "execution_count": 46
        }
      ]
    },
    {
      "cell_type": "code",
      "metadata": {
        "id": "xedX1qfpi2mM",
        "outputId": "6c1d4dd7-6ddd-4911-dfce-0d6c3660414c",
        "colab": {
          "base_uri": "https://localhost:8080/",
          "height": 34
        }
      },
      "source": [
        "second_point.stride()"
      ],
      "execution_count": 47,
      "outputs": [
        {
          "output_type": "execute_result",
          "data": {
            "text/plain": [
              "(1,)"
            ]
          },
          "metadata": {
            "tags": []
          },
          "execution_count": 47
        }
      ]
    },
    {
      "cell_type": "code",
      "metadata": {
        "id": "o_VzXmZhi-1G",
        "outputId": "52ddbf0a-0423-43cd-89df-12a3be234772",
        "colab": {
          "base_uri": "https://localhost:8080/",
          "height": 68
        }
      },
      "source": [
        "points = torch.tensor([[4.0, 1.0], [5.0, 3.0], [2.0, 1.0]])\n",
        "second_point = points[1].clone()\n",
        "second_point[0] = 10.0\n",
        "points"
      ],
      "execution_count": 49,
      "outputs": [
        {
          "output_type": "execute_result",
          "data": {
            "text/plain": [
              "tensor([[4., 1.],\n",
              "        [5., 3.],\n",
              "        [2., 1.]])"
            ]
          },
          "metadata": {
            "tags": []
          },
          "execution_count": 49
        }
      ]
    },
    {
      "cell_type": "code",
      "metadata": {
        "id": "REJ8gkEajAVX",
        "outputId": "28901758-60c9-45d1-b9a8-3e095a40eb34",
        "colab": {
          "base_uri": "https://localhost:8080/",
          "height": 51
        }
      },
      "source": [
        "points_t = points.t()\n",
        "points_t"
      ],
      "execution_count": 50,
      "outputs": [
        {
          "output_type": "execute_result",
          "data": {
            "text/plain": [
              "tensor([[4., 5., 2.],\n",
              "        [1., 3., 1.]])"
            ]
          },
          "metadata": {
            "tags": []
          },
          "execution_count": 50
        }
      ]
    },
    {
      "cell_type": "code",
      "metadata": {
        "id": "_btmBeYmjDMY",
        "outputId": "468369e5-458d-4878-fc34-ced0ecc30570",
        "colab": {
          "base_uri": "https://localhost:8080/",
          "height": 34
        }
      },
      "source": [
        "id(points.storage()) == id(points_t.storage())"
      ],
      "execution_count": 51,
      "outputs": [
        {
          "output_type": "execute_result",
          "data": {
            "text/plain": [
              "True"
            ]
          },
          "metadata": {
            "tags": []
          },
          "execution_count": 51
        }
      ]
    },
    {
      "cell_type": "code",
      "metadata": {
        "id": "_V4lp-FyjHeh",
        "outputId": "096194a3-6e1b-49f8-9e9a-cad6793bc921",
        "colab": {
          "base_uri": "https://localhost:8080/",
          "height": 34
        }
      },
      "source": [
        "points.stride()"
      ],
      "execution_count": 52,
      "outputs": [
        {
          "output_type": "execute_result",
          "data": {
            "text/plain": [
              "(2, 1)"
            ]
          },
          "metadata": {
            "tags": []
          },
          "execution_count": 52
        }
      ]
    },
    {
      "cell_type": "code",
      "metadata": {
        "id": "bgYpwZnwjIlX",
        "outputId": "f48c43ff-7bd9-4405-ffee-8632e3266fa2",
        "colab": {
          "base_uri": "https://localhost:8080/",
          "height": 34
        }
      },
      "source": [
        "points_t.stride()"
      ],
      "execution_count": 53,
      "outputs": [
        {
          "output_type": "execute_result",
          "data": {
            "text/plain": [
              "(1, 2)"
            ]
          },
          "metadata": {
            "tags": []
          },
          "execution_count": 53
        }
      ]
    },
    {
      "cell_type": "code",
      "metadata": {
        "id": "0E2s0ybojLp3",
        "outputId": "82f29b5f-1aad-49c7-8c49-8f13491fff56",
        "colab": {
          "base_uri": "https://localhost:8080/",
          "height": 34
        }
      },
      "source": [
        "points.is_contiguous()"
      ],
      "execution_count": 54,
      "outputs": [
        {
          "output_type": "execute_result",
          "data": {
            "text/plain": [
              "True"
            ]
          },
          "metadata": {
            "tags": []
          },
          "execution_count": 54
        }
      ]
    },
    {
      "cell_type": "code",
      "metadata": {
        "id": "o4a1CIkbjOLX",
        "outputId": "fab3ddb3-0f06-4efc-f9a5-8defa2e2c878",
        "colab": {
          "base_uri": "https://localhost:8080/",
          "height": 34
        }
      },
      "source": [
        "points_t.is_contiguous()"
      ],
      "execution_count": 56,
      "outputs": [
        {
          "output_type": "execute_result",
          "data": {
            "text/plain": [
              "False"
            ]
          },
          "metadata": {
            "tags": []
          },
          "execution_count": 56
        }
      ]
    },
    {
      "cell_type": "code",
      "metadata": {
        "id": "sfbsQ6efjduD",
        "outputId": "1beca58f-164f-4106-836d-7f020f7beadf",
        "colab": {
          "base_uri": "https://localhost:8080/",
          "height": 34
        }
      },
      "source": [
        "x = torch.randn(4, 4)\n",
        "y = x.view(16)\n",
        "z = x.view(-1, 8)  \n",
        "print(x.size(), y.size(), z.size())"
      ],
      "execution_count": 57,
      "outputs": [
        {
          "output_type": "stream",
          "text": [
            "torch.Size([4, 4]) torch.Size([16]) torch.Size([2, 8])\n"
          ],
          "name": "stdout"
        }
      ]
    },
    {
      "cell_type": "code",
      "metadata": {
        "id": "IUblxMDojfkT",
        "outputId": "97b7aa7a-2dfd-4505-85a6-86d2fd20ed90",
        "colab": {
          "base_uri": "https://localhost:8080/",
          "height": 34
        }
      },
      "source": [
        "a = torch.randn(2, 2)\n",
        "a = ((a * 3) / (a - 1))\n",
        "print(a.requires_grad)"
      ],
      "execution_count": 60,
      "outputs": [
        {
          "output_type": "stream",
          "text": [
            "False\n"
          ],
          "name": "stdout"
        }
      ]
    },
    {
      "cell_type": "code",
      "metadata": {
        "id": "4nb6NQWpjtXR",
        "outputId": "838410e7-ff31-4ae0-81ae-76c5a53be03b",
        "colab": {
          "base_uri": "https://localhost:8080/",
          "height": 34
        }
      },
      "source": [
        "a.requires_grad_(True)\n",
        "print(a.requires_grad)"
      ],
      "execution_count": 61,
      "outputs": [
        {
          "output_type": "stream",
          "text": [
            "True\n"
          ],
          "name": "stdout"
        }
      ]
    },
    {
      "cell_type": "code",
      "metadata": {
        "id": "LTn3X9Qyj0_e",
        "outputId": "f4e21054-4f60-403a-a2b8-73abde3e75a2",
        "colab": {
          "base_uri": "https://localhost:8080/",
          "height": 34
        }
      },
      "source": [
        "b = (a * a).sum()\n",
        "print(b)"
      ],
      "execution_count": 62,
      "outputs": [
        {
          "output_type": "stream",
          "text": [
            "tensor(9246.6846, grad_fn=<SumBackward0>)\n"
          ],
          "name": "stdout"
        }
      ]
    },
    {
      "cell_type": "code",
      "metadata": {
        "id": "Xq3XHtBpj7kx",
        "outputId": "9bb11cab-a2cd-472d-f9c3-7efdaaf0fabb",
        "colab": {
          "base_uri": "https://localhost:8080/",
          "height": 51
        }
      },
      "source": [
        "# Example for scaler-valued function\n",
        "x = torch.ones(2, 2, requires_grad=True)\n",
        "print(x)"
      ],
      "execution_count": 64,
      "outputs": [
        {
          "output_type": "stream",
          "text": [
            "tensor([[1., 1.],\n",
            "        [1., 1.]], requires_grad=True)\n"
          ],
          "name": "stdout"
        }
      ]
    },
    {
      "cell_type": "code",
      "metadata": {
        "id": "Vk5-FAPHj9pU",
        "outputId": "a23f5844-f692-429e-c6e9-86371ff50b1c",
        "colab": {
          "base_uri": "https://localhost:8080/",
          "height": 68
        }
      },
      "source": [
        "y = x + 2\n",
        "print(y)\n",
        "print(y.grad_fn) "
      ],
      "execution_count": 65,
      "outputs": [
        {
          "output_type": "stream",
          "text": [
            "tensor([[3., 3.],\n",
            "        [3., 3.]], grad_fn=<AddBackward0>)\n",
            "<AddBackward0 object at 0x7f91732f9ba8>\n"
          ],
          "name": "stdout"
        }
      ]
    },
    {
      "cell_type": "code",
      "metadata": {
        "id": "ZsC6FFAOkIJp",
        "outputId": "3f5f9b4a-9184-4a15-f268-20baef93e765",
        "colab": {
          "base_uri": "https://localhost:8080/",
          "height": 68
        }
      },
      "source": [
        "z = y * y * 3\n",
        "out = z.mean()\n",
        "print(z)\n",
        "print(out)"
      ],
      "execution_count": 75,
      "outputs": [
        {
          "output_type": "stream",
          "text": [
            "tensor([[27., 27.],\n",
            "        [27., 27.]], grad_fn=<MulBackward0>)\n",
            "tensor(27., grad_fn=<MeanBackward0>)\n"
          ],
          "name": "stdout"
        }
      ]
    },
    {
      "cell_type": "code",
      "metadata": {
        "id": "GdjBSuivkiun"
      },
      "source": [
        "out.backward()"
      ],
      "execution_count": 76,
      "outputs": []
    },
    {
      "cell_type": "code",
      "metadata": {
        "id": "b6CdZtf1kkT_",
        "outputId": "ae9bb50f-3406-4386-daad-5f6b1dc0fbcf",
        "colab": {
          "base_uri": "https://localhost:8080/",
          "height": 51
        }
      },
      "source": [
        "x.grad\n",
        "x"
      ],
      "execution_count": 77,
      "outputs": [
        {
          "output_type": "execute_result",
          "data": {
            "text/plain": [
              "tensor([[1., 1.],\n",
              "        [1., 1.]], requires_grad=True)"
            ]
          },
          "metadata": {
            "tags": []
          },
          "execution_count": 77
        }
      ]
    },
    {
      "cell_type": "code",
      "metadata": {
        "id": "lUT4aTQsk2Km",
        "outputId": "035bd578-3be3-46b9-a0ef-0c6a0e0eabc4",
        "colab": {
          "base_uri": "https://localhost:8080/",
          "height": 51
        }
      },
      "source": [
        "x = torch.randn(3, requires_grad=True)\n",
        "y = x * 2\n",
        "while y.data.norm() < 1000:\n",
        "    y = y * 2\n",
        "print(x)\n",
        "print(y)"
      ],
      "execution_count": 81,
      "outputs": [
        {
          "output_type": "stream",
          "text": [
            "tensor([0.0840, 1.5525, 0.5724], requires_grad=True)\n",
            "tensor([  85.9779, 1589.7662,  586.1056], grad_fn=<MulBackward0>)\n"
          ],
          "name": "stdout"
        }
      ]
    },
    {
      "cell_type": "code",
      "metadata": {
        "id": "9mhnPYU2k521",
        "outputId": "8ecd5e62-cf53-4353-dd3e-32ea32828fe8",
        "colab": {
          "base_uri": "https://localhost:8080/",
          "height": 34
        }
      },
      "source": [
        "v = torch.tensor([0.1, 1.0, 0.0001], dtype=torch.float)\n",
        "y.backward(v)\n",
        "print(x.grad)"
      ],
      "execution_count": 82,
      "outputs": [
        {
          "output_type": "stream",
          "text": [
            "tensor([1.0240e+02, 1.0240e+03, 1.0240e-01])\n"
          ],
          "name": "stdout"
        }
      ]
    },
    {
      "cell_type": "code",
      "metadata": {
        "id": "n5VPQVR2k-Et",
        "outputId": "ba6586f1-26b1-4b88-8284-bbb3eb552d08",
        "colab": {
          "base_uri": "https://localhost:8080/",
          "height": 68
        }
      },
      "source": [
        "# Stop autograd if needed\n",
        "print(x.requires_grad)\n",
        "print((x ** 2).requires_grad)\n",
        "\n",
        "with torch.no_grad():\n",
        "    print((x ** 2).requires_grad)"
      ],
      "execution_count": 83,
      "outputs": [
        {
          "output_type": "stream",
          "text": [
            "True\n",
            "True\n",
            "False\n"
          ],
          "name": "stdout"
        }
      ]
    },
    {
      "cell_type": "code",
      "metadata": {
        "id": "F3EjqnfllEJx",
        "outputId": "938c7662-bb8d-4757-b829-089e8c7aea35",
        "colab": {
          "base_uri": "https://localhost:8080/",
          "height": 68
        }
      },
      "source": [
        "print(x.requires_grad)\n",
        "y = x.detach()\n",
        "print(y.requires_grad)\n",
        "print(x.eq(y).all())"
      ],
      "execution_count": 84,
      "outputs": [
        {
          "output_type": "stream",
          "text": [
            "True\n",
            "False\n",
            "tensor(True)\n"
          ],
          "name": "stdout"
        }
      ]
    },
    {
      "cell_type": "code",
      "metadata": {
        "id": "rx50ougElSCV",
        "outputId": "8daf366a-5a9e-4ee1-9b5a-57d13bfc7e57",
        "colab": {
          "base_uri": "https://localhost:8080/",
          "height": 579
        }
      },
      "source": [
        "# Jaringan Syaraf?\n",
        "\n",
        "# t_c: known temperature in Celsius\n",
        "# t_u: 1 wall-mounted analog thermometer without unit\n",
        "\n",
        "import numpy as np\n",
        "from matplotlib import pyplot as plt\n",
        "\n",
        "t_c = [0.5,  14.0, 15.0, 28.0, 11.0,  8.0,  3.0, -4.0,  6.0, 13.0, 21.0]\n",
        "t_u = [35.7, 55.9, 58.2, 81.9, 56.3, 48.9, 33.9, 21.8, 48.4, 60.4, 68.4]\n",
        "\n",
        "t_u_range = np.linspace(20., 90.)\n",
        "t_c_range = (t_u_range -32) * 5/9\n",
        "\n",
        "fig = plt.figure(dpi=150)\n",
        "plt.xlabel(\"Fahrenheit\")\n",
        "plt.ylabel(\"Celsius\")\n",
        "plt.plot(t_u, t_c, 'o', label='Collected Data')\n",
        "plt.plot(t_u_range, t_c_range, '--', label='True relation')\n",
        "plt.legend(loc='best')"
      ],
      "execution_count": 87,
      "outputs": [
        {
          "output_type": "execute_result",
          "data": {
            "text/plain": [
              "<matplotlib.legend.Legend at 0x7f91729c9470>"
            ]
          },
          "metadata": {
            "tags": []
          },
          "execution_count": 87
        },
        {
          "output_type": "display_data",
          "data": {
            "image/png": "[encoded data removed]",
            "text/plain": [
              "<Figure size 900x600 with 1 Axes>"
            ]
          },
          "metadata": {
            "tags": [],
            "needs_background": "light"
          }
        }
      ]
    },
    {
      "cell_type": "code",
      "metadata": {
        "id": "1wBY1rS7lczm",
        "outputId": "6b659a34-235f-44ff-8747-d15e956cb70d",
        "colab": {
          "base_uri": "https://localhost:8080/",
          "height": 255
        }
      },
      "source": [
        "print('t_u as Numpy list:', t_u)\n",
        "\n",
        "t_c = torch.tensor(t_c).unsqueeze(1) \n",
        "t_u = torch.tensor(t_u).unsqueeze(1) \n",
        "t_c = t_c.to(device)\n",
        "t_u = t_u.to(device)\n",
        "\n",
        "print(\"t_u after unsqueeze:\\n\", t_u)\n",
        "t_u.shape"
      ],
      "execution_count": 88,
      "outputs": [
        {
          "output_type": "stream",
          "text": [
            "t_u as Numpy list: [35.7, 55.9, 58.2, 81.9, 56.3, 48.9, 33.9, 21.8, 48.4, 60.4, 68.4]\n",
            "t_u after unsqueeze:\n",
            " tensor([[35.7000],\n",
            "        [55.9000],\n",
            "        [58.2000],\n",
            "        [81.9000],\n",
            "        [56.3000],\n",
            "        [48.9000],\n",
            "        [33.9000],\n",
            "        [21.8000],\n",
            "        [48.4000],\n",
            "        [60.4000],\n",
            "        [68.4000]])\n"
          ],
          "name": "stdout"
        },
        {
          "output_type": "execute_result",
          "data": {
            "text/plain": [
              "torch.Size([11, 1])"
            ]
          },
          "metadata": {
            "tags": []
          },
          "execution_count": 88
        }
      ]
    },
    {
      "cell_type": "code",
      "metadata": {
        "id": "yWHBt5Qslr8J",
        "outputId": "70785178-dbad-4144-baab-babcdb59a421",
        "colab": {
          "base_uri": "https://localhost:8080/",
          "height": 34
        }
      },
      "source": [
        "n_samples = t_u.shape[0]\n",
        "n_val = int(0.2 * n_samples)\n",
        "\n",
        "shuffled_indices = torch.randperm(n_samples)\n",
        "\n",
        "train_indices = shuffled_indices[:-n_val]\n",
        "val_indices = shuffled_indices[-n_val:]\n",
        "\n",
        "train_indices, val_indices"
      ],
      "execution_count": 89,
      "outputs": [
        {
          "output_type": "execute_result",
          "data": {
            "text/plain": [
              "(tensor([ 8,  3,  2,  7,  1,  5,  6, 10,  4]), tensor([0, 9]))"
            ]
          },
          "metadata": {
            "tags": []
          },
          "execution_count": 89
        }
      ]
    },
    {
      "cell_type": "code",
      "metadata": {
        "id": "SGG-B2q7lxbX"
      },
      "source": [
        "t_u_train = t_u[train_indices]\n",
        "t_c_train = t_c[train_indices]\n",
        "\n",
        "t_u_val = t_u[val_indices]\n",
        "t_c_val = t_c[val_indices]\n",
        "\n",
        "t_un_train = 0.1 * t_u_train\n",
        "t_un_val = 0.1 * t_u_val"
      ],
      "execution_count": 91,
      "outputs": []
    },
    {
      "cell_type": "code",
      "metadata": {
        "id": "S-2GFXPulzFY",
        "outputId": "4d2d8388-fc3e-4342-eeb2-570f69e4ad5e",
        "colab": {
          "base_uri": "https://localhost:8080/",
          "height": 1000
        }
      },
      "source": [
        "# TRAIN YOUR NEURAL NETWORK!\n",
        "import torch.nn as nn\n",
        "dir(nn)"
      ],
      "execution_count": 93,
      "outputs": [
        {
          "output_type": "execute_result",
          "data": {
            "text/plain": [
              "['AdaptiveAvgPool1d',\n",
              " 'AdaptiveAvgPool2d',\n",
              " 'AdaptiveAvgPool3d',\n",
              " 'AdaptiveLogSoftmaxWithLoss',\n",
              " 'AdaptiveMaxPool1d',\n",
              " 'AdaptiveMaxPool2d',\n",
              " 'AdaptiveMaxPool3d',\n",
              " 'AlphaDropout',\n",
              " 'AvgPool1d',\n",
              " 'AvgPool2d',\n",
              " 'AvgPool3d',\n",
              " 'BCELoss',\n",
              " 'BCEWithLogitsLoss',\n",
              " 'BatchNorm1d',\n",
              " 'BatchNorm2d',\n",
              " 'BatchNorm3d',\n",
              " 'Bilinear',\n",
              " 'CELU',\n",
              " 'CTCLoss',\n",
              " 'ConstantPad1d',\n",
              " 'ConstantPad2d',\n",
              " 'ConstantPad3d',\n",
              " 'Container',\n",
              " 'Conv1d',\n",
              " 'Conv2d',\n",
              " 'Conv3d',\n",
              " 'ConvTranspose1d',\n",
              " 'ConvTranspose2d',\n",
              " 'ConvTranspose3d',\n",
              " 'CosineEmbeddingLoss',\n",
              " 'CosineSimilarity',\n",
              " 'CrossEntropyLoss',\n",
              " 'CrossMapLRN2d',\n",
              " 'DataParallel',\n",
              " 'Dropout',\n",
              " 'Dropout2d',\n",
              " 'Dropout3d',\n",
              " 'ELU',\n",
              " 'Embedding',\n",
              " 'EmbeddingBag',\n",
              " 'FeatureAlphaDropout',\n",
              " 'Flatten',\n",
              " 'Fold',\n",
              " 'FractionalMaxPool2d',\n",
              " 'FractionalMaxPool3d',\n",
              " 'GELU',\n",
              " 'GLU',\n",
              " 'GRU',\n",
              " 'GRUCell',\n",
              " 'GroupNorm',\n",
              " 'Hardshrink',\n",
              " 'Hardsigmoid',\n",
              " 'Hardswish',\n",
              " 'Hardtanh',\n",
              " 'HingeEmbeddingLoss',\n",
              " 'Identity',\n",
              " 'InstanceNorm1d',\n",
              " 'InstanceNorm2d',\n",
              " 'InstanceNorm3d',\n",
              " 'KLDivLoss',\n",
              " 'L1Loss',\n",
              " 'LPPool1d',\n",
              " 'LPPool2d',\n",
              " 'LSTM',\n",
              " 'LSTMCell',\n",
              " 'LayerNorm',\n",
              " 'LeakyReLU',\n",
              " 'Linear',\n",
              " 'LocalResponseNorm',\n",
              " 'LogSigmoid',\n",
              " 'LogSoftmax',\n",
              " 'MSELoss',\n",
              " 'MarginRankingLoss',\n",
              " 'MaxPool1d',\n",
              " 'MaxPool2d',\n",
              " 'MaxPool3d',\n",
              " 'MaxUnpool1d',\n",
              " 'MaxUnpool2d',\n",
              " 'MaxUnpool3d',\n",
              " 'Module',\n",
              " 'ModuleDict',\n",
              " 'ModuleList',\n",
              " 'MultiLabelMarginLoss',\n",
              " 'MultiLabelSoftMarginLoss',\n",
              " 'MultiMarginLoss',\n",
              " 'MultiheadAttention',\n",
              " 'NLLLoss',\n",
              " 'NLLLoss2d',\n",
              " 'PReLU',\n",
              " 'PairwiseDistance',\n",
              " 'Parameter',\n",
              " 'ParameterDict',\n",
              " 'ParameterList',\n",
              " 'PixelShuffle',\n",
              " 'PoissonNLLLoss',\n",
              " 'RNN',\n",
              " 'RNNBase',\n",
              " 'RNNCell',\n",
              " 'RNNCellBase',\n",
              " 'RReLU',\n",
              " 'ReLU',\n",
              " 'ReLU6',\n",
              " 'ReflectionPad1d',\n",
              " 'ReflectionPad2d',\n",
              " 'ReplicationPad1d',\n",
              " 'ReplicationPad2d',\n",
              " 'ReplicationPad3d',\n",
              " 'SELU',\n",
              " 'Sequential',\n",
              " 'Sigmoid',\n",
              " 'SmoothL1Loss',\n",
              " 'SoftMarginLoss',\n",
              " 'Softmax',\n",
              " 'Softmax2d',\n",
              " 'Softmin',\n",
              " 'Softplus',\n",
              " 'Softshrink',\n",
              " 'Softsign',\n",
              " 'SyncBatchNorm',\n",
              " 'Tanh',\n",
              " 'Tanhshrink',\n",
              " 'Threshold',\n",
              " 'Transformer',\n",
              " 'TransformerDecoder',\n",
              " 'TransformerDecoderLayer',\n",
              " 'TransformerEncoder',\n",
              " 'TransformerEncoderLayer',\n",
              " 'TripletMarginLoss',\n",
              " 'Unfold',\n",
              " 'Upsample',\n",
              " 'UpsamplingBilinear2d',\n",
              " 'UpsamplingNearest2d',\n",
              " 'ZeroPad2d',\n",
              " '__builtins__',\n",
              " '__cached__',\n",
              " '__doc__',\n",
              " '__file__',\n",
              " '__loader__',\n",
              " '__name__',\n",
              " '__package__',\n",
              " '__path__',\n",
              " '__spec__',\n",
              " '_reduction',\n",
              " 'common_types',\n",
              " 'functional',\n",
              " 'grad',\n",
              " 'init',\n",
              " 'intrinsic',\n",
              " 'modules',\n",
              " 'parallel',\n",
              " 'parameter',\n",
              " 'qat',\n",
              " 'quantized',\n",
              " 'utils']"
            ]
          },
          "metadata": {
            "tags": []
          },
          "execution_count": 93
        }
      ]
    },
    {
      "cell_type": "code",
      "metadata": {
        "id": "5d2y0W1ol4ve",
        "outputId": "3ade2015-4e6d-48d0-99e4-a62fb703b322",
        "colab": {
          "base_uri": "https://localhost:8080/",
          "height": 102
        }
      },
      "source": [
        "from collections import OrderedDict\n",
        "\n",
        "seq_model = nn.Sequential(OrderedDict([\n",
        "    ('hidden_linear', nn.Linear(1, 8)),\n",
        "    ('hidden_activation', nn.Tanh()),\n",
        "    ('output_linear', nn.Linear(8, 1))\n",
        "]))\n",
        "\n",
        "seq_model.to(device)\n",
        "\n",
        "print(seq_model)"
      ],
      "execution_count": 95,
      "outputs": [
        {
          "output_type": "stream",
          "text": [
            "Sequential(\n",
            "  (hidden_linear): Linear(in_features=1, out_features=8, bias=True)\n",
            "  (hidden_activation): Tanh()\n",
            "  (output_linear): Linear(in_features=8, out_features=1, bias=True)\n",
            ")\n"
          ],
          "name": "stdout"
        }
      ]
    },
    {
      "cell_type": "code",
      "metadata": {
        "id": "L0OUxNTVmCcO",
        "outputId": "8217059a-d889-462a-faba-67df621feb65",
        "colab": {
          "base_uri": "https://localhost:8080/",
          "height": 119
        }
      },
      "source": [
        "for name, param in seq_model.named_parameters():\n",
        "    print(name, param.shape)\n",
        "\n",
        "seq_model.output_linear.bias"
      ],
      "execution_count": 97,
      "outputs": [
        {
          "output_type": "stream",
          "text": [
            "hidden_linear.weight torch.Size([8, 1])\n",
            "hidden_linear.bias torch.Size([8])\n",
            "output_linear.weight torch.Size([1, 8])\n",
            "output_linear.bias torch.Size([1])\n"
          ],
          "name": "stdout"
        },
        {
          "output_type": "execute_result",
          "data": {
            "text/plain": [
              "Parameter containing:\n",
              "tensor([0.0157], requires_grad=True)"
            ]
          },
          "metadata": {
            "tags": []
          },
          "execution_count": 97
        }
      ]
    },
    {
      "cell_type": "code",
      "metadata": {
        "id": "i8v_LhMzmGuv",
        "outputId": "b35b1c50-dade-4e46-8bf7-aaeaa94527ea",
        "colab": {
          "base_uri": "https://localhost:8080/",
          "height": 391
        }
      },
      "source": [
        "# TRAINING!\n",
        "import torch.optim as optim\n",
        "dir(optim)"
      ],
      "execution_count": 98,
      "outputs": [
        {
          "output_type": "execute_result",
          "data": {
            "text/plain": [
              "['ASGD',\n",
              " 'Adadelta',\n",
              " 'Adagrad',\n",
              " 'Adam',\n",
              " 'AdamW',\n",
              " 'Adamax',\n",
              " 'LBFGS',\n",
              " 'Optimizer',\n",
              " 'RMSprop',\n",
              " 'Rprop',\n",
              " 'SGD',\n",
              " 'SparseAdam',\n",
              " '__builtins__',\n",
              " '__cached__',\n",
              " '__doc__',\n",
              " '__file__',\n",
              " '__loader__',\n",
              " '__name__',\n",
              " '__package__',\n",
              " '__path__',\n",
              " '__spec__',\n",
              " 'lr_scheduler']"
            ]
          },
          "metadata": {
            "tags": []
          },
          "execution_count": 98
        }
      ]
    },
    {
      "cell_type": "code",
      "metadata": {
        "id": "72QaxsJVmPdU",
        "outputId": "732d909a-5567-4f8c-f884-68c0b91c0049",
        "colab": {
          "base_uri": "https://localhost:8080/",
          "height": 323
        }
      },
      "source": [
        "def training_loop(n_epochs, optimizer, model, loss_fn, t_u_train, t_u_val, t_c_train, t_c_val):\n",
        "    for epoch in range(1, n_epochs + 1):\n",
        "\n",
        "        t_p_train = model(t_u_train) \n",
        "        loss_train = loss_fn(t_p_train, t_c_train)\n",
        "\n",
        "        t_p_val = model(t_u_val) \n",
        "        loss_val = loss_fn(t_p_val, t_c_val)\n",
        "        \n",
        "        optimizer.zero_grad()\n",
        "        loss_train.backward() \n",
        "        optimizer.step()\n",
        "\n",
        "        if epoch == 1 or epoch % 1000 == 0:\n",
        "            print('Epoch {}, Training loss {}, Validation loss {}'.format(\n",
        "                epoch, float(loss_train), float(loss_val)))\n",
        "            \n",
        "optimizer = optim.SGD(seq_model.parameters(), lr=1e-3) \n",
        "\n",
        "training_loop(\n",
        "    n_epochs = 5000, \n",
        "    optimizer = optimizer,\n",
        "    model = seq_model,\n",
        "    loss_fn = nn.MSELoss(),\n",
        "    t_u_train = t_un_train,\n",
        "    t_u_val = t_un_val, \n",
        "    t_c_train = t_c_train,\n",
        "    t_c_val = t_c_val)\n",
        "    \n",
        "print('output', seq_model(t_un_val))\n",
        "print('answer', t_c_val)\n",
        "print('hidden', seq_model.hidden_linear.weight.grad)"
      ],
      "execution_count": 99,
      "outputs": [
        {
          "output_type": "stream",
          "text": [
            "Epoch 1, Training loss 196.33714294433594, Validation loss 76.69674682617188\n",
            "Epoch 1000, Training loss 4.373893737792969, Validation loss 4.720809459686279\n",
            "Epoch 2000, Training loss 2.646526336669922, Validation loss 10.008302688598633\n",
            "Epoch 3000, Training loss 1.687429428100586, Validation loss 7.67008113861084\n",
            "Epoch 4000, Training loss 1.5921249389648438, Validation loss 7.878535270690918\n",
            "Epoch 5000, Training loss 1.3363287448883057, Validation loss 6.8492512702941895\n",
            "output tensor([[ 2.3788],\n",
            "        [15.3136]], grad_fn=<AddmmBackward>)\n",
            "answer tensor([[ 0.5000],\n",
            "        [13.0000]])\n",
            "hidden tensor([[  0.4970],\n",
            "        [  0.6455],\n",
            "        [-10.7053],\n",
            "        [  9.2601],\n",
            "        [  0.9978],\n",
            "        [  0.7319],\n",
            "        [ -9.1184],\n",
            "        [ -0.0323]])\n"
          ],
          "name": "stdout"
        }
      ]
    },
    {
      "cell_type": "code",
      "metadata": {
        "id": "YJijeKB2mX8H",
        "outputId": "177a8e12-49eb-4d96-8e12-d4bba5b9629b",
        "colab": {
          "base_uri": "https://localhost:8080/",
          "height": 579
        }
      },
      "source": [
        "# VISUALIZE THE PREDICTION!\n",
        "\n",
        "from matplotlib import pyplot as plt\n",
        "\n",
        "t_range = torch.arange(20., 90.).unsqueeze(1)\n",
        "t_range = t_range.to(device)\n",
        "\n",
        "t_u_range = np.linspace(20., 90.)\n",
        "t_c_range = (t_u_range -32) * 5/9\n",
        "\n",
        "fig = plt.figure(dpi=150)\n",
        "plt.xlabel(\"Fahrenheit\")\n",
        "plt.ylabel(\"Celsius\")\n",
        "plt.plot(t_u.cpu().numpy(), t_c.cpu().numpy(), 'o', label=\"Collected data\")\n",
        "plt.plot(t_range.cpu().numpy(), seq_model(0.1 * t_range).detach().cpu().numpy(), 'c-', label=\"Prediction curve from NN\")\n",
        "plt.plot(t_u.cpu().numpy(), seq_model(0.1 * t_u).detach().cpu().numpy(), 'kx', label=\"Predicted data from NN\")\n",
        "plt.plot(t_u_range, t_c_range, '--', label=\"Known truth\")\n",
        "plt.legend(loc='best')"
      ],
      "execution_count": 101,
      "outputs": [
        {
          "output_type": "execute_result",
          "data": {
            "text/plain": [
              "<matplotlib.legend.Legend at 0x7f91724cd4a8>"
            ]
          },
          "metadata": {
            "tags": []
          },
          "execution_count": 101
        },
        {
          "output_type": "display_data",
          "data": {
            "image/png": "[encoded data removed]",
            "text/plain": [
              "<Figure size 900x600 with 1 Axes>"
            ]
          },
          "metadata": {
            "tags": [],
            "needs_background": "light"
          }
        }
      ]
    },
    {
      "cell_type": "markdown",
      "metadata": {
        "id": "aS7jd3lCmhrq"
      },
      "source": [
        "Coded by ***Yehezk34***"
      ]
    }
  ]
}